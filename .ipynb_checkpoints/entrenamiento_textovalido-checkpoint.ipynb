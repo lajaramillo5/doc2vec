{
 "cells": [
  {
   "cell_type": "code",
   "execution_count": 1,
   "metadata": {},
   "outputs": [],
   "source": [
    "import os"
   ]
  },
  {
   "cell_type": "code",
   "execution_count": 2,
   "metadata": {},
   "outputs": [],
   "source": [
    "import gensim"
   ]
  },
  {
   "cell_type": "code",
   "execution_count": 3,
   "metadata": {},
   "outputs": [],
   "source": [
    "# Establecer nombres de archivo para trenes y datos de prueba\n",
    "test_data_dir = os.path.join(gensim.__path__[0], 'test', 'test_data')"
   ]
  },
  {
   "cell_type": "code",
   "execution_count": 19,
   "metadata": {},
   "outputs": [],
   "source": [
    "lee_train_file = 'prueba.csv'\n",
    "lee_test_file = './textos/S0210-48062009000300013-4.txt'"
   ]
  },
  {
   "cell_type": "code",
   "execution_count": 20,
   "metadata": {},
   "outputs": [],
   "source": [
    "import smart_open\n"
   ]
  },
  {
   "cell_type": "code",
   "execution_count": 21,
   "metadata": {},
   "outputs": [],
   "source": [
    "def read_corpus(fname, tokens_only=False):\n",
    "    with smart_open.open(fname, encoding=\"iso-8859-1\") as f:\n",
    "        for i, line in enumerate(f):\n",
    "            tokens = gensim.utils.simple_preprocess(line)\n",
    "            if tokens_only:\n",
    "                yield tokens\n",
    "            else:\n",
    "                # For training data, add tags\n",
    "                yield gensim.models.doc2vec.TaggedDocument(tokens, [i])\n",
    "\n",
    "train_corpus = list(read_corpus(lee_train_file))\n",
    "test_corpus = list(read_corpus(lee_test_file, tokens_only=True))"
   ]
  },
  {
   "cell_type": "code",
   "execution_count": 23,
   "metadata": {},
   "outputs": [
    {
     "name": "stdout",
     "output_type": "stream",
     "text": [
      "[TaggedDocument(words=['id', 'language', 'title', 'abstract'], tags=[0]), TaggedDocument(words=['es', 'novedades', 'en', 'cirugía', 'de', 'columna', 'vertebral', 'en', 'en', 'este', 'artículo', 'de', 'revisión', 'queremos', 'destacar', 'las', 'principales', 'novedades', 'curiosidades', 'alrededor', 'de', 'la', 'cirugía', 'de', 'columna', 'que', 'se', 'han', 'publicado', 'el', 'año', 'aunque', 'el', 'año', 'pasado', 'no', 'han', 'sido', 'publicadas', 'grandes', 'novedades', 'en', 'nuestra', 'área', 'de', 'estudio', 'nosotros', 'queremos', 'hacer', 'hincapié', 'en', 'los', 'aspectos', 'que', 'nos', 'han', 'parecido', 'más', 'relevantes', 'sobre', 'cirugía', 'de', 'columna', 'dado', 'que', 'la', 'cirugía', 'de', 'columna', 'representa', 'una', 'importante', 'carga', 'asistencial', 'sanitaria', 'social', 'los', 'estudios', 'aquí', 'reflejados', 'intentan', 'dar', 'respuestas', 'las', 'múltiples', 'demandas', 'pendientes', 'así', 'es', 'como', 'abordaremos', 'temas', 'como', 'la', 'artrodesis', 'cervical', 'vs', 'prótesis', 'cervicales', 'uso', 'local', 'de', 'vancomicina', 'en', 'polvo', 'vitamina', 'mejoras', 'en', 'las', 'técnicas', 'de', 'cementación', 'vertebral', 'uso', 'de', 'agentes', 'biológicos', 'escoliosis', 'idiopática', 'del', 'adolescente', 'factores', 'de', 'riesgo', 'para', 'la', 'cirugía', 'de', 'columna', 'au'], tags=[1])]\n"
     ]
    }
   ],
   "source": [
    "print(train_corpus[:2])"
   ]
  },
  {
   "cell_type": "code",
   "execution_count": 24,
   "metadata": {},
   "outputs": [
    {
     "name": "stdout",
     "output_type": "stream",
     "text": [
      "[['paciente', 'varã³n', 'de', 'aã', 'os'], ['antecedentes', 'personales', 'hepatitis', 'en', 'la', 'infancia', 'derecha', 'aã', 'os', 'antes', 'cistinuria', 'uiv', 'previa', 'la', 'leoch', 'con', 'normal', 'funciã³n', 'renal', 'bilateral', 'pero', 'con', 'riã', 'ã³n', 'derecho', 'de', 'menor', 'tamaã', 'que', 'el', 'izquierdo', 'no', 'hta'], ['leoch', 'de', 'litiasis', 'de', 'cm', 'en', 'cã', 'liz', 'inferior', 'de', 'riã', 'ã³n', 'derecho', 'impactos', 'intensidad', 'las', 'horas', 'del', 'tratamiento', 'presentã³', 'dolor', 'intenso', 'en', 'flanco', 'derecho', 'diagnosticã', 'ndose', 'con', 'ecografã', 'de', 'discreto', 'hematoma', 'subcapsular', 'en', 'tac', 'tres', 'dã', 'as', 'despuã', 'hematoma', 'de', 'cm', 'se', 'transfundieron', 'dos', 'concentrados', 'de', 'hematã', 'es'], ['dã', 'as', 'despuã', 'de', 'la', 'litotricia', 'drenaje', 'del', 'hematoma', 'con', 'cirugã', 'abierta', 'alta', 'hospitalaria', 'dã', 'as', 'despuã', 'los', 'controles', 'mediante', 'ecografã', 'uiv', 'posteriores', 'son', 'similares', 'los', 'previos', 'la', 'leoch']]\n"
     ]
    }
   ],
   "source": [
    "print(test_corpus[:4])"
   ]
  },
  {
   "cell_type": "code",
   "execution_count": 25,
   "metadata": {},
   "outputs": [],
   "source": [
    "model = gensim.models.doc2vec.Doc2Vec(vector_size=50, min_count=2, epochs=40)"
   ]
  },
  {
   "cell_type": "code",
   "execution_count": 26,
   "metadata": {},
   "outputs": [],
   "source": [
    "model.build_vocab(train_corpus)"
   ]
  },
  {
   "cell_type": "code",
   "execution_count": 27,
   "metadata": {},
   "outputs": [],
   "source": [
    "model.train(train_corpus, total_examples=model.corpus_count, epochs=model.epochs)"
   ]
  },
  {
   "cell_type": "code",
   "execution_count": 28,
   "metadata": {},
   "outputs": [
    {
     "name": "stdout",
     "output_type": "stream",
     "text": [
      "[ 0.29408458  0.01902035  0.2509655  -0.1917429   0.3717964   0.06486006\n",
      " -0.15585665  0.17819567 -0.1613887   0.46702862  0.21092433 -0.32553563\n",
      "  0.17260243  0.03814838  0.07957438 -0.07220918  0.5835889   0.19304289\n",
      "  0.21495321 -0.1886572   0.3008355  -0.27235675  0.16329761  0.01909898\n",
      "  0.15564577 -0.2666162  -0.05375518  0.12238846 -0.1078207   0.10007147\n",
      " -0.11317477 -0.62187505 -0.01482478 -0.2315957  -0.01083281  0.31778243\n",
      "  0.1109466  -0.15124598 -0.07752077 -0.29983062 -0.20898126 -0.23272349\n",
      "  0.05800027  0.02506509  0.0415661  -0.15917857 -0.2106548   0.33161852\n",
      "  0.16755275  0.23672816]\n"
     ]
    }
   ],
   "source": [
    "vector = model.infer_vector(['escoliosis', 'cervical', 'artrodesis', 'columna', 'agentes', 'cirugía'])\n",
    "print(vector)"
   ]
  },
  {
   "cell_type": "code",
   "execution_count": 29,
   "metadata": {},
   "outputs": [],
   "source": [
    "ranks = []\n",
    "second_ranks = []\n",
    "for doc_id in range(len(train_corpus)):\n",
    "    inferred_vector = model.infer_vector(train_corpus[doc_id].words)\n",
    "    sims = model.docvecs.most_similar([inferred_vector], topn=len(model.docvecs))\n",
    "    rank = [docid for docid, sim in sims].index(doc_id)\n",
    "    ranks.append(rank)\n",
    "\n",
    "    second_ranks.append(sims[1])"
   ]
  },
  {
   "cell_type": "code",
   "execution_count": 30,
   "metadata": {},
   "outputs": [
    {
     "name": "stdout",
     "output_type": "stream",
     "text": [
      "Counter({0: 518, 1: 3, 2: 2, 321: 1, 10: 1, 7: 1})\n"
     ]
    }
   ],
   "source": [
    "import collections\n",
    "\n",
    "counter = collections.Counter(ranks)\n",
    "print(counter)"
   ]
  },
  {
   "cell_type": "code",
   "execution_count": 31,
   "metadata": {},
   "outputs": [
    {
     "name": "stdout",
     "output_type": "stream",
     "text": [
      "Document (525): «es paciente con sdt tras prostatectomía radical el síndrome de déficit de testosterona sdt define un cuadro clínico bioquímico asociado la edad que produce un detrimento en la calidad de vida de estos pacientes estudios recientes abogan por la seguridad del tratamiento hormonal con testosterona en pacientes con historia de cáncer de próstata cp al no haberse demostrado inducción de este tumor un total de cinco publicaciones presentan resultados de pacientes tratados con testosterona con historia de cp intervenidos mediante prostatectomía radical pr solo un paciente presentó recidiva bioquímica durante el tratamiento sustitutivo la terapia de reemplazamiento con testosterona ha de ser indicada en pacientes seleccionados que se encuentren sintomáticos con historia de cáncer localizado de bajo riesgo tratado de manera satisfactoria buen control oncológico las cifras de testosterona alcanzar mantener serán las mínimas eficaces que permitan obtener una respuesta sintomática una correcta adecuada información de los beneficios potenciales riesgos han de ser entendidos aceptados por el paciente au»\n",
      "\n",
      "SIMILAR/DISSIMILAR DOCS PER MODEL Doc2Vec(dm/m,d50,n5,w5,mc2,s0.001,t3):\n",
      "\n",
      "MOST (525, 0.9071284532546997): «es paciente con sdt tras prostatectomía radical el síndrome de déficit de testosterona sdt define un cuadro clínico bioquímico asociado la edad que produce un detrimento en la calidad de vida de estos pacientes estudios recientes abogan por la seguridad del tratamiento hormonal con testosterona en pacientes con historia de cáncer de próstata cp al no haberse demostrado inducción de este tumor un total de cinco publicaciones presentan resultados de pacientes tratados con testosterona con historia de cp intervenidos mediante prostatectomía radical pr solo un paciente presentó recidiva bioquímica durante el tratamiento sustitutivo la terapia de reemplazamiento con testosterona ha de ser indicada en pacientes seleccionados que se encuentren sintomáticos con historia de cáncer localizado de bajo riesgo tratado de manera satisfactoria buen control oncológico las cifras de testosterona alcanzar mantener serán las mínimas eficaces que permitan obtener una respuesta sintomática una correcta adecuada información de los beneficios potenciales riesgos han de ser entendidos aceptados por el paciente au»\n",
      "\n",
      "SECOND-MOST (97, 0.7561168074607849): «es trastorno psicótico agudo trastorno del movimiento secundario tratamiento con clorhidrato de tramadol bromuro de hioscina se presenta el caso de una paciente de años sin antecedentes psiquiátricos que presentó un cuadro de trastorno del movimiento de carácter coreico síntomas psicóticos asociado tratamiento con tramadol butilbromuro de hioscina que cedió con la retirada del fármaco tratamiento antipsicótico volviendo la paciente la situación de normalidad»\n",
      "\n",
      "MEDIAN (204, 0.341063916683197): «es involuntary psychiatric admissions retrospective study of cases introduction we collected the data relating to involuntary hospital treatment iht in the university psychiatric ward at novara hospital between and and compared them with those relating to piedmont and the whole of italy methods the data were collected from the ward medical records results iht was much more frequent among young male schizophrenics living with their families of origin most of the subjects were not working at the time of admission there was statistically significant correlation between male gender and the risk of being admitted for period of less than days the risk of being admitted for more than days significantly correlated with the province of birth and residence as well as with diagnosis of schizophrenic psychosis au»\n",
      "\n",
      "LEAST (0, -0.13319537043571472): «id language title abstract»\n",
      "\n"
     ]
    }
   ],
   "source": [
    "print('Document ({}): «{}»\\n'.format(doc_id, ' '.join(train_corpus[doc_id].words)))\n",
    "print(u'SIMILAR/DISSIMILAR DOCS PER MODEL %s:\\n' % model)\n",
    "for label, index in [('MOST', 0), ('SECOND-MOST', 1), ('MEDIAN', len(sims)//2), ('LEAST', len(sims) - 1)]:\n",
    "    print(u'%s %s: «%s»\\n' % (label, sims[index], ' '.join(train_corpus[sims[index][0]].words)))"
   ]
  },
  {
   "cell_type": "code",
   "execution_count": 32,
   "metadata": {},
   "outputs": [
    {
     "name": "stdout",
     "output_type": "stream",
     "text": [
      "Train Document (461): «es aplicaciones de los conocimientos psicológicos en la iniciación deportiva en este trabajo se analiza la aplicación de la psicología en la iniciación deportiva así lo primero que se desarrolla es un apartado dedicado analizar los diferentes factores que afectan la práctica deportiva en estas edades de iniciación destacando continuación las diferentes intervenciones que sobre éstos se han ido realizando intervenciones que abarcan tanto las personas que rodean los niños como los objetos deportivos como las propias normas también se dedica un apartado especial la iniciación deportiva de cara la tecnificación de los deportistas finalizando con un análisis de las competencias que debe tener el psicólogo que pretenda aplicar los conocimientos psicológicos en la iniciación deportiva au»\n",
      "\n",
      "Similar Document (490, 0.8396366238594055): «es aceite de argán usos tradicionales aspectos fitoquímicos nutricionales farmacológicos argania spinosa skeels es un árbol originario del suroeste de marruecos de cuyo fruto se obtiene el aceite de argán el cual ha sido utilizado como alimento como ingrediente cosmético los estudios referidos los usos tradicionales muestran que este aceite es conocido por sus propiedades nutricionales por los efectos beneficiosos en la hidratación de la piel retrasando el envejecimiento la aparición de arrugas otros trastornos dermatológicos los estudios fitoquímicos farmacológicos revelan que tiene actividades beneficiosas dentro del ámbito de la dermatología diabetes enfermedades trastornos hormonales validando de esta manera sus usos tradicionales demostrando el gran potencial que tiene este aceite en salud humana la presente revisión muestra investigaciones realizadas sobre el aceite de argán durante los últimos años que han sido recopiladas través de las bases de datos pubmed web of science au»\n",
      "\n"
     ]
    }
   ],
   "source": [
    "# Pick a random document from the corpus and infer a vector from the model\n",
    "import random\n",
    "doc_id = random.randint(0, len(train_corpus) - 1)\n",
    "\n",
    "# Compare and print the second-most-similar document\n",
    "print('Train Document ({}): «{}»\\n'.format(doc_id, ' '.join(train_corpus[doc_id].words)))\n",
    "sim_id = second_ranks[doc_id]\n",
    "print('Similar Document {}: «{}»\\n'.format(sim_id, ' '.join(train_corpus[sim_id[0]].words)))"
   ]
  },
  {
   "cell_type": "code",
   "execution_count": 33,
   "metadata": {},
   "outputs": [
    {
     "name": "stdout",
     "output_type": "stream",
     "text": [
      "Test Document (1): «antecedentes personales hepatitis en la infancia derecha aã os antes cistinuria uiv previa la leoch con normal funciã³n renal bilateral pero con riã ã³n derecho de menor tamaã que el izquierdo no hta»\n",
      "\n",
      "SIMILAR/DISSIMILAR DOCS PER MODEL Doc2Vec(dm/m,d50,n5,w5,mc2,s0.001,t3):\n",
      "\n",
      "MOST (58, 0.6485365629196167): «es sarcoma sinovial renal primario presentación de un caso con estudio molecular el sarcoma sinovial ss renal fue descrito por primera vez por argani et al en el año presentamos un caso de ss renal monofásico de grado intermedio se trata de un varón de años que presentaba un tumor renal sólido quístico de cm bien delimitado con un nódulo sólido de cm se realizó nefrectomía parcial el tumor se caracterizaba por células fusiformes monomorfas quistes revestidos por células epiteliales en tachuela se observó infiltración focal de la grasa perirrenal que rodeaba el nódulo sólido las células fusocelulares expresaban cd bcl ema sma eran negativas para cd receptores de estrógenos progesterona desmina wt las células en tachuela expresaban cd pax pax ema ckae ae ck ck confirmando que eran epitelio renal atrapado se realizó fish que demostró la translocación específica del ss el paciente ha recibido ciclos de quimioterapia adyuvante continúa libre de recurrencia metástasis meses tras la intervención au»\n",
      "\n",
      "MEDIAN (312, 0.22044962644577026): «es ameloblastoma en américa latina análisis de casos objetivo el objetivo de este estudio es presentar los resultados de un análisis del ameloblastoma en pacientes diseño se realizó una revisión de las series de ameloblastoma previamente publicadas se agregaron casos de nuestros archivos resultando casos para el análisis resultados el promedio de edad de los pacientes fue de años el por ciento fueron pacientes menores de años las mujeres se afectaron con mayor frecuencia la recurrencia fue menor que en estudios previos el tipo quístico fue muy alto representó el por ciento de la los casos en nuestra muestra de casos el ameloblastoma quístico representó el por ciento conclusiones nuestros resultados demuestran que el gran tamaño el largo tiempo de evolución son características prominentes del ameloblastoma en los pacientes la alta proporción de ameloblastomas quísticos en este estudio se correlaciona con la baja tasa de recurrencia nuestros resultados apoyan la teoría de que el ameloblastoma en los países en desarrollo aparece edades más tempranas sugieren que el ameloblastoma quístico es más frecuente en américa latina au»\n",
      "\n",
      "LEAST (352, -0.32073748111724854): «es información de eventos adversos pacientes familiares objetivo realizar un revisión bibliográfica sobre la información de incidentes eventos adversos pacientes familiares así como revisar las principales políticas guías institucionales aspectos legales relacionados con dicho proceso material método se consultaron diferentes fuentes electrónicas en papel se utilizó pub med como motor de búsqueda principal resultados el sistema sanitario debe buscar la manera de cubrir las necesidades expectativas de los pacientes cuando ocurre un evento adverso través del cuidado soporte emocional información relativa al evento las guías éticas profesionales establecen la responsabilidad de los profesionales de las instituciones de desvelar los errores cometidos durante la atención sanitaria existen muchas barreras que dificultan llevar cabo este complejo proceso la formación de los profesionales el desarrollo de guías institucionales pueden favorecer el cumplimiento los aspectos legales deben ser abordados nivel local evaluar el impacto real de un desarrollo legislativo específico sobre la efectividad del proceso conclusión en nuestro ámbito no existen recomendaciones específicas en relación la información pacientes familiares sobre eventos adversos se requieren propuestas consensuadas que den respuesta de forma científica esta cuestión con importantes connotaciones tanto éticas como legales au»\n",
      "\n"
     ]
    }
   ],
   "source": [
    "# Pick a random document from the test corpus and infer a vector from the model\n",
    "doc_id = random.randint(0, len(test_corpus) - 1)\n",
    "inferred_vector = model.infer_vector(test_corpus[doc_id])\n",
    "sims = model.docvecs.most_similar([inferred_vector], topn=len(model.docvecs))\n",
    "\n",
    "# Compare and print the most/median/least similar documents from the train corpus\n",
    "print('Test Document ({}): «{}»\\n'.format(doc_id, ' '.join(test_corpus[doc_id])))\n",
    "print(u'SIMILAR/DISSIMILAR DOCS PER MODEL %s:\\n' % model)\n",
    "for label, index in [('MOST', 0), ('MEDIAN', len(sims)//2), ('LEAST', len(sims) - 1)]:\n",
    "    print(u'%s %s: «%s»\\n' % (label, sims[index], ' '.join(train_corpus[sims[index][0]].words)))"
   ]
  },
  {
   "cell_type": "code",
   "execution_count": null,
   "metadata": {},
   "outputs": [],
   "source": []
  }
 ],
 "metadata": {
  "kernelspec": {
   "display_name": "Python 3",
   "language": "python",
   "name": "python3"
  },
  "language_info": {
   "codemirror_mode": {
    "name": "ipython",
    "version": 3
   },
   "file_extension": ".py",
   "mimetype": "text/x-python",
   "name": "python",
   "nbconvert_exporter": "python",
   "pygments_lexer": "ipython3",
   "version": "3.7.4"
  }
 },
 "nbformat": 4,
 "nbformat_minor": 2
}
