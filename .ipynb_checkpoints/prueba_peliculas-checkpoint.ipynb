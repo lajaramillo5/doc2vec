{
 "cells": [
  {
   "cell_type": "code",
   "execution_count": 26,
   "metadata": {},
   "outputs": [],
   "source": [
    "import numpy as np\n",
    "import pandas as pd\n",
    "import matplotlib.pyplot as plt\n",
    "%matplotlib inline\n",
    "\n",
    "from gensim.models import Doc2Vec\n",
    "from collections import namedtuple\n",
    "import gensim.utils\n",
    "from langdetect import detect\n",
    "import re\n",
    "import string"
   ]
  },
  {
   "cell_type": "code",
   "execution_count": 28,
   "metadata": {},
   "outputs": [
    {
     "data": {
      "text/html": [
       "<div>\n",
       "<style scoped>\n",
       "    .dataframe tbody tr th:only-of-type {\n",
       "        vertical-align: middle;\n",
       "    }\n",
       "\n",
       "    .dataframe tbody tr th {\n",
       "        vertical-align: top;\n",
       "    }\n",
       "\n",
       "    .dataframe thead th {\n",
       "        text-align: right;\n",
       "    }\n",
       "</style>\n",
       "<table border=\"1\" class=\"dataframe\">\n",
       "  <thead>\n",
       "    <tr style=\"text-align: right;\">\n",
       "      <th></th>\n",
       "      <th>overview</th>\n",
       "      <th>original_title</th>\n",
       "    </tr>\n",
       "  </thead>\n",
       "  <tbody>\n",
       "    <tr>\n",
       "      <td>0</td>\n",
       "      <td>Led by Woody, Andy's toys live happily in his ...</td>\n",
       "      <td>Toy Story</td>\n",
       "    </tr>\n",
       "    <tr>\n",
       "      <td>1</td>\n",
       "      <td>When siblings Judy and Peter discover an encha...</td>\n",
       "      <td>Jumanji</td>\n",
       "    </tr>\n",
       "    <tr>\n",
       "      <td>2</td>\n",
       "      <td>A family wedding reignites the ancient feud be...</td>\n",
       "      <td>Grumpier Old Men</td>\n",
       "    </tr>\n",
       "    <tr>\n",
       "      <td>3</td>\n",
       "      <td>Cheated on, mistreated and stepped on, the wom...</td>\n",
       "      <td>Waiting to Exhale</td>\n",
       "    </tr>\n",
       "    <tr>\n",
       "      <td>4</td>\n",
       "      <td>Just when George Banks has recovered from his ...</td>\n",
       "      <td>Father of the Bride Part II</td>\n",
       "    </tr>\n",
       "  </tbody>\n",
       "</table>\n",
       "</div>"
      ],
      "text/plain": [
       "                                            overview  \\\n",
       "0  Led by Woody, Andy's toys live happily in his ...   \n",
       "1  When siblings Judy and Peter discover an encha...   \n",
       "2  A family wedding reignites the ancient feud be...   \n",
       "3  Cheated on, mistreated and stepped on, the wom...   \n",
       "4  Just when George Banks has recovered from his ...   \n",
       "\n",
       "                original_title  \n",
       "0                    Toy Story  \n",
       "1                      Jumanji  \n",
       "2             Grumpier Old Men  \n",
       "3            Waiting to Exhale  \n",
       "4  Father of the Bride Part II  "
      ]
     },
     "execution_count": 28,
     "metadata": {},
     "output_type": "execute_result"
    }
   ],
   "source": [
    "imdbdata=pd.read_csv('movies.csv')\n",
    "data = np.array(imdbdata.overview)\n",
    "titles=np.array(imdbdata.original_title)\n",
    "\n",
    "imdbdata.head()"
   ]
  },
  {
   "cell_type": "code",
   "execution_count": 29,
   "metadata": {},
   "outputs": [],
   "source": [
    "SentimentDocument = namedtuple('SentimentDocument', 'words tags title original_number')\n",
    "n=0\n",
    "alldocs = []  # Will hold all docs in original order\n",
    "\n",
    "regex = re.compile('[%s]' % re.escape(string.punctuation)) #to remove punctuation\n",
    "\n",
    "for line_no, line in enumerate(data):\n",
    "    if (type(line)==str):\n",
    "        if (len(line)>150):\n",
    "            if (detect(line) == 'en') :\n",
    "                line = regex.sub('', line)\n",
    "                tokens = gensim.utils.to_unicode(line).lower().split()\n",
    "                words = tokens[0:]\n",
    "                tags = [n]\n",
    "                title = titles[line_no]\n",
    "                alldocs.append(SentimentDocument(words, tags, title, line_no))\n",
    "                n=n+1"
   ]
  },
  {
   "cell_type": "code",
   "execution_count": 30,
   "metadata": {},
   "outputs": [
    {
     "name": "stdout",
     "output_type": "stream",
     "text": [
      "Number of Documents :  34179\n",
      "Mean length of documents :  65.90827701220047\n"
     ]
    },
    {
     "data": {
      "text/plain": [
       "Text(0, 0.5, 'Length of the description')"
      ]
     },
     "execution_count": 30,
     "metadata": {},
     "output_type": "execute_result"
    },
    {
     "data": {
      "image/png": "[encoded data removed]",
      "text/plain": [
       "<Figure size 1440x432 with 1 Axes>"
      ]
     },
     "metadata": {
      "needs_background": "light"
     },
     "output_type": "display_data"
    }
   ],
   "source": [
    "l = []\n",
    "for doc in alldocs:\n",
    "    l.append(len(doc.words))\n",
    "\n",
    "print('Number of Documents : ', len(alldocs))\n",
    "print('Mean length of documents : ', np.mean(l))\n",
    "\n",
    "plt.figure (figsize=(20, 6))\n",
    "plt.bar(range(0, len(l)), l)\n",
    "plt.xlabel('Documents')\n",
    "plt.ylabel('Length of the description')"
   ]
  },
  {
   "cell_type": "code",
   "execution_count": 32,
   "metadata": {},
   "outputs": [
    {
     "name": "stdout",
     "output_type": "stream",
     "text": [
      "SentimentDocument(words=['led', 'by', 'woody', 'andys', 'toys', 'live', 'happily', 'in', 'his', 'room', 'until', 'andys', 'birthday', 'brings', 'buzz', 'lightyear', 'onto', 'the', 'scene', 'afraid', 'of', 'losing', 'his', 'place', 'in', 'andys', 'heart', 'woody', 'plots', 'against', 'buzz', 'but', 'when', 'circumstances', 'separate', 'buzz', 'and', 'woody', 'from', 'their', 'owner', 'the', 'duo', 'eventually', 'learns', 'to', 'put', 'aside', 'their', 'differences'], tags=[0], title='Toy Story', original_number=0) \n",
      "\n",
      "Led by Woody, Andy's toys live happily in his room until Andy's birthday brings Buzz Lightyear onto the scene. Afraid of losing his place in Andy's heart, Woody plots against Buzz. But when circumstances separate Buzz and Woody from their owner, the duo eventually learns to put aside their differences.\n"
     ]
    }
   ],
   "source": [
    "# Un ejemplo de cómo se construye la lista alldocs\n",
    "\n",
    "index = 0\n",
    "doc = alldocs[index]\n",
    "print(doc, '\\n')\n",
    "print(data[doc.original_number])"
   ]
  },
  {
   "cell_type": "code",
   "execution_count": 35,
   "metadata": {},
   "outputs": [],
   "source": [
    "# PV-DM\n",
    "model = Doc2Vec(dm=1, vector_size=300,window=10,hs=0,min_count=10,dbow_words=1,sample=1e-5)\n",
    "\n",
    "# build the vocabulary \n",
    "model.build_vocab(alldocs)"
   ]
  },
  {
   "cell_type": "code",
   "execution_count": 36,
   "metadata": {},
   "outputs": [],
   "source": [
    "model.train(alldocs, total_examples=model.corpus_count, epochs=100, start_alpha=0.01, end_alpha=0.01)"
   ]
  },
  {
   "cell_type": "code",
   "execution_count": 38,
   "metadata": {},
   "outputs": [],
   "source": [
    "model.save(\"model_peliculas\")\n",
    "#Doc2Vec.load(\"model\")"
   ]
  },
  {
   "cell_type": "code",
   "execution_count": 40,
   "metadata": {},
   "outputs": [
    {
     "data": {
      "text/plain": [
       "[('senseless', 0.735723078250885),\n",
       " ('tainted', 0.7263023853302002),\n",
       " ('rage', 0.7065189480781555),\n",
       " ('fending', 0.7060574293136597),\n",
       " ('horny', 0.7054950594902039),\n",
       " ('resentful', 0.7041762471199036),\n",
       " ('assaults', 0.7031314969062805),\n",
       " ('hanging', 0.7023718953132629),\n",
       " ('helpless', 0.7021806836128235),\n",
       " ('crazed', 0.7020151019096375)]"
      ]
     },
     "execution_count": 40,
     "metadata": {},
     "output_type": "execute_result"
    }
   ],
   "source": [
    "model.wv.most_similar_cosmul(positive = [\"angry\"])"
   ]
  },
  {
   "cell_type": "code",
   "execution_count": 41,
   "metadata": {},
   "outputs": [
    {
     "data": {
      "text/plain": [
       "[('ii', 0.9030777812004089),\n",
       " ('civil', 0.8492467403411865),\n",
       " ('frontline', 0.8296962380409241),\n",
       " ('trenches', 0.825787365436554),\n",
       " ('ww', 0.8124229311943054),\n",
       " ('wwii', 0.8110400438308716),\n",
       " ('wartime', 0.8100445866584778),\n",
       " ('soldier', 0.8096861243247986),\n",
       " ('soldiers', 0.8086903691291809),\n",
       " ('vietnam', 0.8031720519065857)]"
      ]
     },
     "execution_count": 41,
     "metadata": {},
     "output_type": "execute_result"
    }
   ],
   "source": [
    "model.wv.most_similar_cosmul(positive = [\"war\"])"
   ]
  },
  {
   "cell_type": "code",
   "execution_count": 42,
   "metadata": {},
   "outputs": [
    {
     "data": {
      "text/plain": [
       "[('queen', 0.9603464007377625),\n",
       " ('crowned', 0.9167125821113586),\n",
       " ('palace', 0.8959445357322693),\n",
       " ('princess', 0.8915420174598694),\n",
       " ('throne', 0.8900576233863831),\n",
       " ('governess', 0.8613322973251343),\n",
       " ('dartagnan', 0.8589318990707397),\n",
       " ('richelieu', 0.8538074493408203),\n",
       " ('sisters', 0.843058168888092),\n",
       " ('musketeers', 0.8405189514160156)]"
      ]
     },
     "execution_count": 42,
     "metadata": {},
     "output_type": "execute_result"
    }
   ],
   "source": [
    "model.wv.most_similar_cosmul(negative = [\"man\"], positive = [\"king\",\"woman\"])"
   ]
  },
  {
   "cell_type": "code",
   "execution_count": 43,
   "metadata": {},
   "outputs": [
    {
     "name": "stdout",
     "output_type": "stream",
     "text": [
      "Document :  A ne'er-do-well who's married to a millionnaire realizes his financial trouble might be solved if his wife was dead - and sets out a plot to achieve just that. A remake of Dino Risi's \"il vedovo\". \n",
      "\n",
      "Titre :  Aspirante vedovo\n",
      "Distance :  0.18741022050380707\n"
     ]
    }
   ],
   "source": [
    "\n",
    "\n",
    "tokens = \"war\"\n",
    "\n",
    "new_vector = model.infer_vector(tokens.split() ,alpha=0.001 ,steps = 5)\n",
    "tagsim = model.docvecs.most_similar([new_vector])[0]\n",
    "\n",
    "docsim = alldocs[tagsim[0] ]\n",
    "\n",
    "print(\"Document : \", data[docsim.original_number], \"\\n\")\n",
    "print(\"Titre : \", docsim.title)\n",
    "print(\"Distance : \", tagsim[1])"
   ]
  },
  {
   "cell_type": "code",
   "execution_count": 44,
   "metadata": {},
   "outputs": [
    {
     "name": "stdout",
     "output_type": "stream",
     "text": [
      "Most :  Madeleine steals a string of pearls in Paris and uses US engineer Tom, who is driving on his vacation to Spain, to get the pearls out of France. But getting the pearls back from him proves to be difficult without falling in love. \n",
      "\n",
      "Median :  After the Ball, a retail fairy tale set in the world of fashion. Kate's dream is to design for couturier houses. Although she is a bright new talent, Kate can't get a job. No one trusts the daughter of Lee Kassell, a retail guru who markets clothes \"inspired\" by the very designers Kate wants to work for. Who wants a spy among the sequins and stilettos? Reluctantly, Kate joins the family business where she must navigate around her duplicitous stepmother and two wicked stepsisters. But with the help of a prince of a guy in the shoe department her godmother's vintage clothes and a shocking switch of identities, Kate exposes the evil trio, saves her father's company -- and proves that everyone can wear a fabulous dress. \n",
      "\n",
      "Least :  William Hundert is a passionate and principled Classics professor who finds his tightly-controlled world shaken and inexorably altered when a new student, Sedgewick Bell, walks into his classroom. What begins as a fierce battle of wills gives way to a close student-teacher relationship, but results in a life lesson for Hundert that will still haunt him a quarter of a century later.\n"
     ]
    }
   ],
   "source": [
    "\n",
    "tokens = \"love\"\n",
    "\n",
    "new_vector = model.infer_vector(tokens.split() ,alpha=0.001 ,steps = 5)\n",
    "sims = model.docvecs.most_similar([new_vector], topn=model.docvecs.count) # get *all* similar documents\n",
    "\n",
    "print(\"Most : \" , data[alldocs[sims[0][0]].original_number], \"\\n\") \n",
    "print(\"Median : \" , data[alldocs[sims[17000][0]].original_number], \"\\n\")\n",
    "print(\"Least : \" , data[alldocs[sims[-1][0]].original_number])"
   ]
  },
  {
   "cell_type": "code",
   "execution_count": 45,
   "metadata": {},
   "outputs": [
    {
     "name": "stdout",
     "output_type": "stream",
     "text": [
      "Target :  A wealthy business man is a victim of an assault and is shot and wheelchair bound while his wife is gang raped and murdered. He then assembles his motley squad of Vietnam buddies to kung fu their way to revenge and get those muthas back. \n",
      "\n",
      "Most :  Tiger is the owner of a brothel who moonlights as a kung fu artist under the watchful eye of \"Master.\" They run into serious trouble when ninjas inexplicably show up and jeopardize Tiger's prostitution ring. \n",
      "\n",
      "Median :  In Manhattan, the aspirant writer Jabez Stone is a complete loser: he is not able to sell his novels, he lives in a lousy apartment and he does not have success with women. When one of his friends Julius Jenson sells his novel for US$ 190,000.00 to an editor, Jabez fells envy and promises to sell his soul to the devil for success and accidentally kills a woman with his typing machine. The Devil knocks on his door, fixes the situation and seals a contract with Jabez. His low quality novels have bad reviews but become best-sellers; Jabez enriches; has success with women, but has no time for his friends. Jabez meets with the publisher Daniel Webster who offers him a chance to break the contract with the devil. \n",
      "\n",
      "Least :  Cet Amour-là is an intimate portrait of a legendary love affair. Set against the beauty of the Breton seaside, it is also a film that revels in the insights that Marguerite Duras' writing affords.\n"
     ]
    }
   ],
   "source": [
    "doc = np.random.randint(model.docvecs.count)\n",
    "\n",
    "sims = model.docvecs.most_similar(doc, topn=model.docvecs.count) # get *all* similar documents\n",
    "\n",
    "print(\"Target : \", data[alldocs[doc] .original_number], \"\\n\" )\n",
    "print(\"Most : \" , data[alldocs[sims[0][0]].original_number], \"\\n\")\n",
    "print(\"Median : \" , data[alldocs[sims[34000][0]].original_number], \"\\n\")\n",
    "print(\"Least : \" , data[alldocs[sims[-1][0]].original_number])"
   ]
  },
  {
   "cell_type": "code",
   "execution_count": null,
   "metadata": {},
   "outputs": [],
   "source": []
  }
 ],
 "metadata": {
  "kernelspec": {
   "display_name": "Python 3",
   "language": "python",
   "name": "python3"
  },
  "language_info": {
   "codemirror_mode": {
    "name": "ipython",
    "version": 3
   },
   "file_extension": ".py",
   "mimetype": "text/x-python",
   "name": "python",
   "nbconvert_exporter": "python",
   "pygments_lexer": "ipython3",
   "version": "3.7.4"
  }
 },
 "nbformat": 4,
 "nbformat_minor": 2
}
