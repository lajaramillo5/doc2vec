{
 "cells": [
  {
   "cell_type": "code",
   "execution_count": 95,
   "metadata": {},
   "outputs": [],
   "source": [
    "import numpy as np\n",
    "import pandas as pd\n",
    "import matplotlib.pyplot as plt\n",
    "%matplotlib inline\n",
    "\n",
    "from gensim.models import Doc2Vec\n",
    "from collections import namedtuple\n",
    "import gensim.utils\n",
    "from langdetect import detect\n",
    "import re\n",
    "import string"
   ]
  },
  {
   "cell_type": "code",
   "execution_count": 96,
   "metadata": {},
   "outputs": [
    {
     "data": {
      "text/html": [
       "<div>\n",
       "<style scoped>\n",
       "    .dataframe tbody tr th:only-of-type {\n",
       "        vertical-align: middle;\n",
       "    }\n",
       "\n",
       "    .dataframe tbody tr th {\n",
       "        vertical-align: top;\n",
       "    }\n",
       "\n",
       "    .dataframe thead th {\n",
       "        text-align: right;\n",
       "    }\n",
       "</style>\n",
       "<table border=\"1\" class=\"dataframe\">\n",
       "  <thead>\n",
       "    <tr style=\"text-align: right;\">\n",
       "      <th></th>\n",
       "      <th>ID</th>\n",
       "      <th>LANGUAGE</th>\n",
       "      <th>Titulo</th>\n",
       "      <th>ABSTRACT</th>\n",
       "    </tr>\n",
       "  </thead>\n",
       "  <tbody>\n",
       "    <tr>\n",
       "      <td>0</td>\n",
       "      <td>100083</td>\n",
       "      <td>es</td>\n",
       "      <td>Novedades en cirugía de columna vertebral en 2015</td>\n",
       "      <td>En este artículo de revisión, queremos destaca...</td>\n",
       "    </tr>\n",
       "    <tr>\n",
       "      <td>1</td>\n",
       "      <td>100419</td>\n",
       "      <td>es</td>\n",
       "      <td>Biomecánica del síndrome de latigazo cervical ...</td>\n",
       "      <td>El tratamiento mediante manipulaciones es una ...</td>\n",
       "    </tr>\n",
       "    <tr>\n",
       "      <td>2</td>\n",
       "      <td>10042</td>\n",
       "      <td>es</td>\n",
       "      <td>Gestión integral del acceso vascular por los n...</td>\n",
       "      <td>El retraso en la creación de las Fístulas arte...</td>\n",
       "    </tr>\n",
       "    <tr>\n",
       "      <td>3</td>\n",
       "      <td>100472</td>\n",
       "      <td>es</td>\n",
       "      <td>Expectativas y experiencias de uso de las muje...</td>\n",
       "      <td>Objetivo: Conocer las expectativas y las exper...</td>\n",
       "    </tr>\n",
       "    <tr>\n",
       "      <td>4</td>\n",
       "      <td>100592</td>\n",
       "      <td>es</td>\n",
       "      <td>Percepción sobre las competencias específicas ...</td>\n",
       "      <td>Objetivo. La presente investigación se interes...</td>\n",
       "    </tr>\n",
       "  </tbody>\n",
       "</table>\n",
       "</div>"
      ],
      "text/plain": [
       "      ID  LANGUAGE                                              Titulo  \\\n",
       "0  100083        es  Novedades en cirugía de columna vertebral en 2015   \n",
       "1  100419        es  Biomecánica del síndrome de latigazo cervical ...   \n",
       "2   10042        es  Gestión integral del acceso vascular por los n...   \n",
       "3  100472        es  Expectativas y experiencias de uso de las muje...   \n",
       "4  100592        es  Percepción sobre las competencias específicas ...   \n",
       "\n",
       "                                            ABSTRACT  \n",
       "0  En este artículo de revisión, queremos destaca...  \n",
       "1  El tratamiento mediante manipulaciones es una ...  \n",
       "2  El retraso en la creación de las Fístulas arte...  \n",
       "3  Objetivo: Conocer las expectativas y las exper...  \n",
       "4  Objetivo. La presente investigación se interes...  "
      ]
     },
     "execution_count": 96,
     "metadata": {},
     "output_type": "execute_result"
    }
   ],
   "source": [
    "imdbdata=pd.read_csv('prueba_data.csv')\n",
    "\n",
    "\n",
    "imdbdata.head()"
   ]
  },
  {
   "cell_type": "code",
   "execution_count": 97,
   "metadata": {},
   "outputs": [],
   "source": [
    "SentimentDocument = namedtuple('SentimentDocument', 'words tags title original_number')\n",
    "n=0\n",
    "alldocs = []  # Will hold all docs in original order\n",
    "\n",
    "regex = re.compile('[%s]' % re.escape(string.punctuation)) #to remove punctuation\n",
    "\n",
    "for line_no, line in enumerate(data):\n",
    "    if (type(line)==str):\n",
    "        if (len(line)>150):\n",
    "            if (detect(line) == 'en') :\n",
    "                line = regex.sub('', line)\n",
    "                tokens = gensim.utils.to_unicode(line).lower().split()\n",
    "                words = tokens[0:]\n",
    "                tags = [n]\n",
    "                title = titles[line_no]\n",
    "                alldocs.append(SentimentDocument(words, tags, title, line_no))\n",
    "                n=n+1"
   ]
  },
  {
   "cell_type": "code",
   "execution_count": 98,
   "metadata": {},
   "outputs": [
    {
     "name": "stdout",
     "output_type": "stream",
     "text": [
      "Number of Documents :  34179\n",
      "Mean length of documents :  65.90915474414113\n"
     ]
    },
    {
     "data": {
      "text/plain": [
       "Text(0, 0.5, 'Length of the description')"
      ]
     },
     "execution_count": 98,
     "metadata": {},
     "output_type": "execute_result"
    },
    {
     "data": {
      "image/png": "[encoded data removed]",
      "text/plain": [
       "<Figure size 1440x432 with 1 Axes>"
      ]
     },
     "metadata": {
      "needs_background": "light"
     },
     "output_type": "display_data"
    }
   ],
   "source": [
    "l = []\n",
    "for doc in alldocs:\n",
    "    l.append(len(doc.words))\n",
    "\n",
    "print('Number of Documents : ', len(alldocs))\n",
    "print('Mean length of documents : ', np.mean(l))\n",
    "\n",
    "plt.figure (figsize=(20, 6))\n",
    "plt.bar(range(0, len(l)), l)\n",
    "plt.xlabel('Documents')\n",
    "plt.ylabel('Length of the description')"
   ]
  },
  {
   "cell_type": "code",
   "execution_count": 72,
   "metadata": {},
   "outputs": [
    {
     "name": "stdout",
     "output_type": "stream",
     "text": [
      "SentimentDocument(words=['led', 'by', 'woody', 'andys', 'toys', 'live', 'happily', 'in', 'his', 'room', 'until', 'andys', 'birthday', 'brings', 'buzz', 'lightyear', 'onto', 'the', 'scene', 'afraid', 'of', 'losing', 'his', 'place', 'in', 'andys', 'heart', 'woody', 'plots', 'against', 'buzz', 'but', 'when', 'circumstances', 'separate', 'buzz', 'and', 'woody', 'from', 'their', 'owner', 'the', 'duo', 'eventually', 'learns', 'to', 'put', 'aside', 'their', 'differences'], tags=[0], title='Toy Story', original_number=0) \n",
      "\n",
      "Led by Woody, Andy's toys live happily in his room until Andy's birthday brings Buzz Lightyear onto the scene. Afraid of losing his place in Andy's heart, Woody plots against Buzz. But when circumstances separate Buzz and Woody from their owner, the duo eventually learns to put aside their differences.\n"
     ]
    }
   ],
   "source": [
    "# An example of how the list alldocs is build\n",
    "\n",
    "index = 0\n",
    "doc = alldocs[index]\n",
    "print(doc, '\\n')\n",
    "print(data[doc.original_number])"
   ]
  },
  {
   "cell_type": "code",
   "execution_count": 78,
   "metadata": {},
   "outputs": [],
   "source": [
    "# PV-DM\n",
    "model = Doc2Vec(dm=1, vector_size=300,window=10,hs=0,min_count=10,dbow_words=1,sample=1e-5)\n",
    "\n",
    "# build the vocabulary \n",
    "model.build_vocab(alldocs)"
   ]
  },
  {
   "cell_type": "code",
   "execution_count": 79,
   "metadata": {},
   "outputs": [],
   "source": [
    "\n",
    "model.train(alldocs, total_examples=model.corpus_count, epochs=100, start_alpha=0.01, end_alpha=0.01)"
   ]
  },
  {
   "cell_type": "code",
   "execution_count": 80,
   "metadata": {},
   "outputs": [],
   "source": [
    "\n",
    "model.save(\"model12\")\n",
    "#Doc2Vec.load(\"model\")"
   ]
  },
  {
   "cell_type": "code",
   "execution_count": 81,
   "metadata": {},
   "outputs": [
    {
     "data": {
      "text/plain": [
       "[('fall', 0.8501284122467041),\n",
       " ('falls', 0.8389833569526672),\n",
       " ('madly', 0.81822270154953),\n",
       " ('falling', 0.7985825538635254),\n",
       " ('triangle', 0.7829323410987854),\n",
       " ('passionately', 0.7701780796051025),\n",
       " ('fallen', 0.7681301236152649),\n",
       " ('longing', 0.7530333995819092),\n",
       " ('unrequited', 0.7443259954452515),\n",
       " ('valmont', 0.7389178276062012)]"
      ]
     },
     "execution_count": 81,
     "metadata": {},
     "output_type": "execute_result"
    }
   ],
   "source": [
    "model.wv.most_similar_cosmul(positive = [\"love\"])"
   ]
  },
  {
   "cell_type": "code",
   "execution_count": 82,
   "metadata": {},
   "outputs": [
    {
     "data": {
      "text/plain": [
       "[('planet', 0.9030438661575317),\n",
       " ('astronaut', 0.8949042558670044),\n",
       " ('mars', 0.8946502804756165),\n",
       " ('nasa', 0.8932883739471436),\n",
       " ('astronauts', 0.8889405727386475),\n",
       " ('earth', 0.8882076740264893),\n",
       " ('asteroid', 0.8868789076805115),\n",
       " ('outer', 0.88020259141922),\n",
       " ('spacecraft', 0.8751670122146606),\n",
       " ('moon', 0.8750457167625427)]"
      ]
     },
     "execution_count": 82,
     "metadata": {},
     "output_type": "execute_result"
    }
   ],
   "source": [
    "model.wv.most_similar_cosmul(positive = [\"space\"])"
   ]
  },
  {
   "cell_type": "code",
   "execution_count": 83,
   "metadata": {},
   "outputs": [
    {
     "data": {
      "text/plain": [
       "[('queen', 0.9263780117034912),\n",
       " ('princess', 0.9220839738845825),\n",
       " ('prince', 0.8880159854888916),\n",
       " ('palace', 0.8785263299942017),\n",
       " ('empress', 0.8779050707817078),\n",
       " ('dartagnan', 0.8776535391807556),\n",
       " ('princesses', 0.859187126159668),\n",
       " ('andre', 0.8549402356147766),\n",
       " ('throne', 0.8520327210426331),\n",
       " ('crowned', 0.848175048828125)]"
      ]
     },
     "execution_count": 83,
     "metadata": {},
     "output_type": "execute_result"
    }
   ],
   "source": [
    "model.wv.most_similar_cosmul(negative = [\"man\"], positive = [\"king\",\"woman\"])"
   ]
  },
  {
   "cell_type": "code",
   "execution_count": 85,
   "metadata": {},
   "outputs": [
    {
     "name": "stdout",
     "output_type": "stream",
     "text": [
      "Document :  One year after their break-up, Nikos locks Sofia up in the basement of a studio, determined not to let her out until he understands exactly why they broke up. \n",
      "\n",
      "Titre :  Άφτερλωβ\n",
      "Distance :  0.2982414960861206\n"
     ]
    }
   ],
   "source": [
    "# Closest document to the word \"war\"\n",
    "\n",
    "tokens = \"los\"\n",
    "\n",
    "new_vector = model.infer_vector(tokens.split() ,alpha=0.001 ,steps = 5)\n",
    "tagsim = model.docvecs.most_similar([new_vector])[0]\n",
    "\n",
    "docsim = alldocs[tagsim[0] ]\n",
    "\n",
    "print(\"Document : \", data[docsim.original_number], \"\\n\")\n",
    "print(\"Titre : \", docsim.title)\n",
    "print(\"Distance : \", tagsim[1])"
   ]
  },
  {
   "cell_type": "code",
   "execution_count": 86,
   "metadata": {},
   "outputs": [
    {
     "name": "stdout",
     "output_type": "stream",
     "text": [
      "Most :  Pretending to do research for his newspaper, college student Alex Marsh teams up with the somewhat older Susan Swayze, who he long admired from afar. Susan participates in The Assassination Game, in which every player tries to shoot another with a toy dart gun, until only one remains. While doing his best to win her over, and helping her finding her targets, Alex discovers that this year the Game may be more serious than most contenders realize... \n",
      "\n",
      "Median :  Larry the Cucumber stars as Minnesota Cuke, adventurer extraordinary. Follow Cuke around the world as he searches for the legendary Hairbrush of Samson on a race to keep it from his arch nemeses, Professor Rattan! \n",
      "\n",
      "Least :  Free to Run tells the amazing story of the running movement over the past five decades, the struggle for the right to run - especially for women – against conservative Federations, the explosion of grass roots road races and marathons, until the boom of running as a vast business enterprise.\n"
     ]
    }
   ],
   "source": [
    "# Closest document to the word \"love\"\n",
    "\n",
    "tokens = \"love\"\n",
    "\n",
    "new_vector = model.infer_vector(tokens.split() ,alpha=0.001 ,steps = 5)\n",
    "sims = model.docvecs.most_similar([new_vector], topn=model.docvecs.count) # get *all* similar documents\n",
    "\n",
    "print(\"Most : \" , data[alldocs[sims[0][0]].original_number], \"\\n\") \n",
    "print(\"Median : \" , data[alldocs[sims[17000][0]].original_number], \"\\n\")\n",
    "print(\"Least : \" , data[alldocs[sims[-1][0]].original_number])\n",
    "    "
   ]
  },
  {
   "cell_type": "code",
   "execution_count": 87,
   "metadata": {},
   "outputs": [
    {
     "name": "stdout",
     "output_type": "stream",
     "text": [
      "Target :  Mouna Rudo was born and raised among the Seediq people, an indigenous tribe in Taiwan, and as he grew to be a man he became a member of the Seediq Bale, a courageous band of native warriors. However, Rudo's way of life is threatened under the yoke of occupying forces from Japan, who took over the nation in 1895. As Rudo sees the traditions and honor of his people stripped away, he realizes the time has come to fight back, and in 1930 he brings together a group of former Seediq Bale soldiers, many of whom have been reduced to infighting, and molds them into a revolutionary army. Rudo and his comrades make their stand when they confront Japanese occupation troops at a youth athletic event, leading to a violent confrontation between the Seediq forces and their oppressors. Warriors of the Rainbow: Seediq Bale - Part 1: The Sun Flag is Part one of the two-part, four-hour Taiwanese edition of the film Warriors of the Rainbow. \n",
      "\n",
      "Most :  The film mainly follows the famous 1597 Battle of Myeongryang during the Japanese invasion of Korea (1592-1598), where the iconic Joseon admiral Yi Sun-sin managed to destroy a total of 133 Japanese warships with only 13 ships remaining in his command. The battle, which took place in the Myeongryang Strait off the southwest coast of the Korean Peninsula, is considered one of the greatest victories of Yi. \n",
      "\n",
      "Median :  Sharron Holden is a loving mother, wife, and workaholic. She's on the verge of a huge promotion at work, but her husband feels as if she has given up on her family. While on vacation, she imagines that life would have been better if she didn't have kids so young. But when a man claiming to be Kris Kringle arrives, he shows her how empty life truly would have been without the love of her family. \n",
      "\n",
      "Least :  Agnes has most things in life: a family who are always there for her, a good job in the restaurant industry, a boyfriend who loves her, and a best friend whom she knows inside out. Or does she? All of a sudden things begin to crumble, one by one, and soon nothing is as it was.\n"
     ]
    }
   ],
   "source": [
    "doc = np.random.randint(model.docvecs.count)\n",
    "\n",
    "sims = model.docvecs.most_similar(doc, topn=model.docvecs.count) # get *all* similar documents\n",
    "\n",
    "print(\"Target : \", data[alldocs[doc] .original_number], \"\\n\" )\n",
    "print(\"Most : \" , data[alldocs[sims[0][0]].original_number], \"\\n\")\n",
    "print(\"Median : \" , data[alldocs[sims[34000][0]].original_number], \"\\n\")\n",
    "print(\"Least : \" , data[alldocs[sims[-1][0]].original_number])"
   ]
  },
  {
   "cell_type": "code",
   "execution_count": 90,
   "metadata": {},
   "outputs": [],
   "source": [
    "# PV-DBOW (with negative sampling)\n",
    "model_pre_trained = Doc2Vec(dm=0,size=300, window=15,hs=0,negative=5,min_count=10,dbow_words=1,sample=1e-5)\n",
    "\n",
    "# build the vocabulary \n",
    "model_pre_trained.build_vocab(alldocs)\n",
    "\n"
   ]
  },
  {
   "cell_type": "code",
   "execution_count": 89,
   "metadata": {},
   "outputs": [],
   "source": [
    "model_pre_trained.train(alldocs, total_examples=model.corpus_count, epochs=100)"
   ]
  },
  {
   "cell_type": "code",
   "execution_count": 91,
   "metadata": {},
   "outputs": [],
   "source": [
    "from gensim.models import TfidfModel\n",
    "from gensim.corpora import Dictionary\n",
    "from gensim import similarities \n",
    "\n",
    "dct = Dictionary(doc.words for doc in alldocs)  # fit dictionary\n",
    "corpus = [dct.doc2bow(line.words) for line in alldocs]  # convert dataset to BoW format\n",
    "model_tfidf = TfidfModel(corpus)  # fit model"
   ]
  },
  {
   "cell_type": "code",
   "execution_count": 92,
   "metadata": {},
   "outputs": [
    {
     "name": "stdout",
     "output_type": "stream",
     "text": [
      "Document  0  :  Led by Woody, Andy's toys live happily in his room until Andy's birthday brings Buzz Lightyear onto the scene. Afraid of losing his place in Andy's heart, Woody plots against Buzz. But when circumstances separate Buzz and Woody from their owner, the duo eventually learns to put aside their differences.\n",
      "Bag of words representation of document  0  :  [(0, 1), (1, 1), (2, 1), (3, 3), (4, 1), (5, 1), (6, 1), (7, 1), (8, 3), (9, 1), (10, 1), (11, 1), (12, 1), (13, 1), (14, 1), (15, 1), (16, 1), (17, 2), (18, 2), (19, 1), (20, 1), (21, 1), (22, 1), (23, 1), (24, 1), (25, 1), (26, 1), (27, 1), (28, 1), (29, 1), (30, 1), (31, 1), (32, 1), (33, 2), (34, 2), (35, 1), (36, 1), (37, 1), (38, 1), (39, 3)]\n"
     ]
    }
   ],
   "source": [
    "# for example \n",
    " \n",
    "index = 0\n",
    "print(\"Document \",index, \" : \", data[alldocs[index].original_number] ) \n",
    "print(\"Bag of words representation of document \", index, \" : \", corpus[index])"
   ]
  },
  {
   "cell_type": "code",
   "execution_count": 93,
   "metadata": {},
   "outputs": [],
   "source": [
    "#Create similarity matrix between doc and tokens\n",
    "tokens = \"love\".split()\n",
    "index = similarities.MatrixSimilarity([dct.doc2bow(tokens)],num_features=len(dct))"
   ]
  },
  {
   "cell_type": "code",
   "execution_count": 94,
   "metadata": {},
   "outputs": [
    {
     "name": "stdout",
     "output_type": "stream",
     "text": [
      "Out of Love encapsulates the sweltering and devastating dynamics of love in the turbulent relationship between Varya and Nikolai, where genuine love and hope contend with destruction and despair.\n",
      "(32764, 0.2982414960861206)\n",
      "Out of Love\n"
     ]
    }
   ],
   "source": [
    "similarity=np.zeros((len(alldocs)))\n",
    "maxsim = 0\n",
    "for id, doc in enumerate(alldocs):\n",
    "    similarity[id] = index[dct.doc2bow(doc.words)]\n",
    "    \n",
    "docsim= alldocs[np.argmax(similarity)] \n",
    "print(data[docsim.original_number])\n",
    "print(tagsim)\n",
    "print(docsim.title)"
   ]
  },
  {
   "cell_type": "code",
   "execution_count": null,
   "metadata": {},
   "outputs": [],
   "source": []
  }
 ],
 "metadata": {
  "kernelspec": {
   "display_name": "Python 3",
   "language": "python",
   "name": "python3"
  },
  "language_info": {
   "codemirror_mode": {
    "name": "ipython",
    "version": 3
   },
   "file_extension": ".py",
   "mimetype": "text/x-python",
   "name": "python",
   "nbconvert_exporter": "python",
   "pygments_lexer": "ipython3",
   "version": "3.7.4"
  }
 },
 "nbformat": 4,
 "nbformat_minor": 2
}
