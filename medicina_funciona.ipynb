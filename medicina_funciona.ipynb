{
 "cells": [
  {
   "cell_type": "code",
   "execution_count": 1,
   "metadata": {},
   "outputs": [],
   "source": [
    "import numpy as np\n",
    "import pandas as pd\n",
    "import matplotlib.pyplot as plt\n",
    "%matplotlib inline\n",
    "\n",
    "from gensim.models import Doc2Vec\n",
    "from collections import namedtuple\n",
    "import gensim.utils\n",
    "from langdetect import detect\n",
    "import re\n",
    "import string"
   ]
  },
  {
   "cell_type": "code",
   "execution_count": 2,
   "metadata": {},
   "outputs": [
    {
     "data": {
      "text/html": [
       "<div>\n",
       "<style scoped>\n",
       "    .dataframe tbody tr th:only-of-type {\n",
       "        vertical-align: middle;\n",
       "    }\n",
       "\n",
       "    .dataframe tbody tr th {\n",
       "        vertical-align: top;\n",
       "    }\n",
       "\n",
       "    .dataframe thead th {\n",
       "        text-align: right;\n",
       "    }\n",
       "</style>\n",
       "<table border=\"1\" class=\"dataframe\">\n",
       "  <thead>\n",
       "    <tr style=\"text-align: right;\">\n",
       "      <th></th>\n",
       "      <th>titulo</th>\n",
       "      <th>descripcion</th>\n",
       "    </tr>\n",
       "  </thead>\n",
       "  <tbody>\n",
       "    <tr>\n",
       "      <td>0</td>\n",
       "      <td>Novedades en cirugía de columna vertebral en 2015</td>\n",
       "      <td>En este artículo de revisión, queremos destaca...</td>\n",
       "    </tr>\n",
       "    <tr>\n",
       "      <td>1</td>\n",
       "      <td>Biomecánica del síndrome de latigazo cervical ...</td>\n",
       "      <td>El tratamiento mediante manipulaciones es una ...</td>\n",
       "    </tr>\n",
       "    <tr>\n",
       "      <td>2</td>\n",
       "      <td>Gestión integral del acceso vascular por los n...</td>\n",
       "      <td>El retraso en la creación de las Fístulas arte...</td>\n",
       "    </tr>\n",
       "    <tr>\n",
       "      <td>3</td>\n",
       "      <td>Expectativas y experiencias de uso de las muje...</td>\n",
       "      <td>Objetivo: Conocer las expectativas y las exper...</td>\n",
       "    </tr>\n",
       "    <tr>\n",
       "      <td>4</td>\n",
       "      <td>Percepción sobre las competencias específicas ...</td>\n",
       "      <td>Objetivo. La presente investigación se interes...</td>\n",
       "    </tr>\n",
       "  </tbody>\n",
       "</table>\n",
       "</div>"
      ],
      "text/plain": [
       "                                              titulo  \\\n",
       "0  Novedades en cirugía de columna vertebral en 2015   \n",
       "1  Biomecánica del síndrome de latigazo cervical ...   \n",
       "2  Gestión integral del acceso vascular por los n...   \n",
       "3  Expectativas y experiencias de uso de las muje...   \n",
       "4  Percepción sobre las competencias específicas ...   \n",
       "\n",
       "                                         descripcion  \n",
       "0  En este artículo de revisión, queremos destaca...  \n",
       "1  El tratamiento mediante manipulaciones es una ...  \n",
       "2  El retraso en la creación de las Fístulas arte...  \n",
       "3  Objetivo: Conocer las expectativas y las exper...  \n",
       "4  Objetivo. La presente investigación se interes...  "
      ]
     },
     "execution_count": 2,
     "metadata": {},
     "output_type": "execute_result"
    }
   ],
   "source": [
    "imdbdata=pd.read_csv('datos.csv')\n",
    "data = np.array(imdbdata.titulo)\n",
    "titles=np.array(imdbdata.descripcion)\n",
    "\n",
    "imdbdata.head()"
   ]
  },
  {
   "cell_type": "code",
   "execution_count": 3,
   "metadata": {},
   "outputs": [],
   "source": [
    "\n",
    "SentimentDocument = namedtuple('SentimentDocument', 'words tags title original_number')\n",
    "n=0\n",
    "alldocs = []  # Retendrá todos los documentos en el orden original\n",
    "\n",
    "regex = re.compile('[%s]' % re.escape(string.punctuation)) #para eliminar la puntuación\n",
    "\n",
    "for line_no, line in enumerate(data):\n",
    "    if (type(line)==str):\n",
    "        if (len(line)>150):\n",
    "            if (detect(line) == 'es') :\n",
    "                line = regex.sub('', line)\n",
    "                tokens = gensim.utils.to_unicode(line).lower().split()\n",
    "                words = tokens[0:]\n",
    "                tags = [n]\n",
    "                title = titles[line_no]\n",
    "                alldocs.append(SentimentDocument(words, tags, title, line_no))\n",
    "                n=n+1"
   ]
  },
  {
   "cell_type": "code",
   "execution_count": 4,
   "metadata": {},
   "outputs": [
    {
     "name": "stdout",
     "output_type": "stream",
     "text": [
      "Number of Documents :  461\n",
      "Mean length of documents :  204.60737527114966\n"
     ]
    },
    {
     "data": {
      "text/plain": [
       "Text(0, 0.5, 'Length of the description')"
      ]
     },
     "execution_count": 4,
     "metadata": {},
     "output_type": "execute_result"
    },
    {
     "data": {
      "image/png": "[encoded data removed]",
      "text/plain": [
       "<Figure size 1440x432 with 1 Axes>"
      ]
     },
     "metadata": {
      "needs_background": "light"
     },
     "output_type": "display_data"
    }
   ],
   "source": [
    "l = []\n",
    "for doc in alldocs:\n",
    "    l.append(len(doc.words))\n",
    "\n",
    "print('Number of Documents : ', len(alldocs))\n",
    "print('Mean length of documents : ', np.mean(l))\n",
    "\n",
    "plt.figure (figsize=(20, 6))\n",
    "plt.bar(range(0, len(l)), l)\n",
    "plt.xlabel('Documents')\n",
    "plt.ylabel('Length of the description')"
   ]
  },
  {
   "cell_type": "code",
   "execution_count": 5,
   "metadata": {},
   "outputs": [
    {
     "name": "stdout",
     "output_type": "stream",
     "text": [
      "SentimentDocument(words=['evaluación', 'de', 'la', 'eficacia', 'de', 'un', 'protocolo', 'destinado', 'a', 'mejorar', 'el', 'control', 'glucémico', 'de', 'los', 'pacientes', 'con', 'hiperglucemia', 'ingresados', 'en', 'servicios', 'hospitalarios', 'de', 'medicina', 'interna'], tags=[0], title='Objetivos. Los objetivos del presente trabajo fueron evaluar si la difusión de un protocolo de manejo de la hiperglucemia sería capaz de incrementar el uso de insulina programada y mejorar el control glucémico durante la estancia hospitalaria. Pacientes y métodos. Estudio observacional de cohortes retrospectivo analítico. Se comparan 2 grupos de pacientes dados de alta con un diagnóstico relacionado con diabetes (DM) en servicios de Medicina Interna, antes (grupoPRE) y después (grupoPOS) de la implantación de un protocolo de actuación. Las respuestas analizadas fueron indicadores de proceso (probabilidad de permanecer sin insulina programada, evaluada mediante curvas de Kaplan-Meier), y de resultados (diferencias ajustadas (grupoPOS ? grupoPRE) de control glucémico, evaluadas mediante regresión lineal múltiple). Resultados. Hubo 228 pacientes en el grupoPRE y 127 en el grupoPOS. La mediana del tiempo hasta el inicio de insulina programada fue de un día (IC 95%: 0-2,5) en el grupoPOS y de cuatro días (IC 95%: 2-6) en el grupoPRE (p=0,056). La glucemia en las primeras 48 horas de ingreso entre los pacientes que no recibieron insulina programada fue inferior en el grupoPOS respecto al grupoPRE (163,9 vs 186,7 mg/dl,\" p=0,025). La glucemia media las primeras 24 horas fue inferior en el grupoPOS (diferencia: -24,8 mg/dl (IC 95%: -40,5-(-9)\",\" p=0,002)). En análisis estratificado, la diferencia en glucemia media durante el ingreso fue significativa en los pacientes en ayunas (-29,8 mg/dl\",\" IC 95%: -58,9-(-0,6) p=0,045) pero no en aquellos con ingesta conservada. Conclusión. Un protocolo específico puede mejorar la calidad en la asistencia hospitalaria al paciente con DM (AU)', original_number=12) \n",
      "\n",
      "Evaluación de la eficacia de un protocolo destinado a mejorar el control glucémico de los pacientes con hiperglucemia ingresados en servicios hospitalarios de medicina interna\t\n"
     ]
    }
   ],
   "source": [
    "# Un ejemplo de cómo se construye la lista alldocs\n",
    "\n",
    "index = 0\n",
    "doc = alldocs[index]\n",
    "print(doc, '\\n')\n",
    "print(data[doc.original_number])"
   ]
  },
  {
   "cell_type": "code",
   "execution_count": 6,
   "metadata": {},
   "outputs": [],
   "source": [
    "\n",
    "# PV-DM\n",
    "model = Doc2Vec(dm=1, vector_size=300,window=10,hs=0,min_count=10,dbow_words=1,sample=1e-5)\n",
    "\n",
    "# construye el vocabulario\n",
    "model.build_vocab(alldocs)"
   ]
  },
  {
   "cell_type": "code",
   "execution_count": 7,
   "metadata": {},
   "outputs": [],
   "source": [
    "model.train(alldocs, total_examples=model.corpus_count, epochs=100, start_alpha=0.01, end_alpha=0.01)"
   ]
  },
  {
   "cell_type": "code",
   "execution_count": 8,
   "metadata": {},
   "outputs": [],
   "source": [
    "model.save(\"vocabulario_medicina\")\n",
    "#Doc2Vec.load(\"model\")"
   ]
  },
  {
   "cell_type": "code",
   "execution_count": 9,
   "metadata": {},
   "outputs": [
    {
     "data": {
      "text/plain": [
       "[('yo', 0.9999282956123352),\n",
       " ('testosterona', 0.9999274611473083),\n",
       " ('radical', 0.9999252557754517),\n",
       " ('primer', 0.9999226927757263),\n",
       " ('presentamos', 0.9999224543571472),\n",
       " ('aquellos', 0.9999223947525024),\n",
       " ('biopsia', 0.9999220371246338),\n",
       " ('sometidos', 0.9999217987060547),\n",
       " ('resección', 0.9999210238456726),\n",
       " ('mm', 0.9999207258224487)]"
      ]
     },
     "execution_count": 9,
     "metadata": {},
     "output_type": "execute_result"
    }
   ],
   "source": [
    "model.wv.most_similar_cosmul(positive = [\"cáncer\"])"
   ]
  },
  {
   "cell_type": "code",
   "execution_count": 10,
   "metadata": {},
   "outputs": [
    {
     "data": {
      "text/plain": [
       "[('mm', 0.9999229907989502),\n",
       " ('resección', 0.9999229907989502),\n",
       " ('se', 0.9999226331710815),\n",
       " ('primer', 0.9999206066131592),\n",
       " ('pronóstico', 0.9999198913574219),\n",
       " ('diversas', 0.9999197721481323),\n",
       " ('patrón', 0.999919593334198),\n",
       " ('5', 0.9999195337295532),\n",
       " ('referencia', 0.9999185800552368),\n",
       " ('cáncer', 0.9999171495437622)]"
      ]
     },
     "execution_count": 10,
     "metadata": {},
     "output_type": "execute_result"
    }
   ],
   "source": [
    "model.wv.most_similar_cosmul(positive = [\"mama\"])"
   ]
  },
  {
   "cell_type": "code",
   "execution_count": 11,
   "metadata": {},
   "outputs": [
    {
     "data": {
      "text/plain": [
       "[('pronóstico', 0.9999333620071411),\n",
       " ('células', 0.9999321103096008),\n",
       " ('presentamos', 0.9999295473098755),\n",
       " ('radical', 0.9999282360076904),\n",
       " ('primario', 0.9999261498451233),\n",
       " ('tumores', 0.9999259114265442),\n",
       " ('caso', 0.9999250173568726),\n",
       " ('origen', 0.999924898147583),\n",
       " ('casos', 0.9999237060546875),\n",
       " ('presentó', 0.9999231696128845)]"
      ]
     },
     "execution_count": 11,
     "metadata": {},
     "output_type": "execute_result"
    }
   ],
   "source": [
    "model.wv.most_similar_cosmul(positive = [\"tumor\"])"
   ]
  },
  {
   "cell_type": "code",
   "execution_count": 12,
   "metadata": {},
   "outputs": [
    {
     "data": {
      "text/plain": [
       "[('10', 0.9998733997344971),\n",
       " ('ingreso', 0.9998697638511658),\n",
       " ('con', 0.9998687505722046),\n",
       " ('días', 0.9998642206192017),\n",
       " ('40', 0.9998635649681091),\n",
       " ('35', 0.9998613595962524),\n",
       " ('fueron', 0.9998613595962524),\n",
       " ('mortalidad', 0.9998595714569092),\n",
       " ('analizaron', 0.9998584389686584),\n",
       " ('diagnosticados', 0.9998577237129211)]"
      ]
     },
     "execution_count": 12,
     "metadata": {},
     "output_type": "execute_result"
    }
   ],
   "source": [
    "model.wv.most_similar_cosmul(negative = [\"cáncer\"], positive = [\"mama\",\"pacientes\"])"
   ]
  },
  {
   "cell_type": "code",
   "execution_count": 13,
   "metadata": {},
   "outputs": [
    {
     "name": "stdout",
     "output_type": "stream",
     "text": [
      "Document :  Hiperodoncia múltiple y su relación con la displasia cleidocraneal\t\"La hiperodoncia son alteraciones del desarrollo dentario que exceden de la fórmula dental normal, se presentan diversas clasificaciones dependiendo de su localización, forma, número y medio ambiente, la hiperactividad de las células epiteliales de la lámina dental y la dicotomía son las teorías más aceptadas que intentar explicar su etiología,\" frecuentemente se detectan en el examen radiográfico de rutina. El diagnóstico y tratamiento temprano de un diente supernumerario, evita una serie de complicaciones como retrasos en su erupción dental, rotaciones, desplazamientos, apiñamiento, diastemas, entre otros\",\" también pueden estar asociados a síndromes genéticos como la Displasia cleidocraneal. Se reporta caso de paciente masculino de 12 años, que presenta características clínicas y radiográficas compatibles con la Displasia cleidocraneal, en el cual se observaron 8 dientes supernumerarios, 4 localizados en el maxilar y 4 en la mandíbula (AU)\"\"\"\"\"\"\",\"\",\"\",\"\",\"\",\"\",\"\",\"\",\"\",\"\",\"\" \n",
      "\n",
      "Titre :  nan\n",
      "Distance :  0.07165400683879852\n"
     ]
    }
   ],
   "source": [
    "\n",
    "# Closest document to the word \"war\"\n",
    "\n",
    "tokens = \"cáncer\"\n",
    "\n",
    "new_vector = model.infer_vector(tokens.split() ,alpha=0.001 ,steps = 5)\n",
    "tagsim = model.docvecs.most_similar([new_vector])[0]\n",
    "\n",
    "docsim = alldocs[tagsim[0] ]\n",
    "\n",
    "print(\"Document : \", data[docsim.original_number], \"\\n\")\n",
    "print(\"Titre : \", docsim.title)\n",
    "print(\"Distance : \", tagsim[1])"
   ]
  },
  {
   "cell_type": "code",
   "execution_count": 14,
   "metadata": {},
   "outputs": [
    {
     "name": "stdout",
     "output_type": "stream",
     "text": [
      "Most :  Variz pulmonar en el interior de una bulla\t\"Las varices pulmonares son anomalías vasculares pulmonares infrecuentes. Suelen ser asintomáticas, por lo que normalmente se diagnostican como hallazgo casual en la radiografía de tórax, y con frecuencia se presentan como un nódulo pulmonar. Su origen puede ser congénito o adquirido,\" en este último caso se relaciona con una hipertensión pulmonar venosa, frecuentemente asociada a valvulopatía mitral. Su diagnóstico definitivo se realiza mediante arteriografía pulmonar, aunque cada vez más se están usando nuevas técnicas de imagen no invasivas. Normalmente no requieren tratamiento, a menos que presenten complicaciones graves. Exponemos un caso con una forma de presentación de variz pulmonar no descrita con anterioridad, ya que dicha anomalía se encontraba en el interior de una bulla pulmonar\"\"\"\"\"\"\",\"\",\"\",\"\",\"\",\"\",\"\",\"\",\"\",\"\",\"\",\"\" \n",
      "\n",
      "Median :  Determinación de la substantividad de un dentífrico con flúor de aminas y xilitoly de un dentífrico con flúor de sodio\t\"Los agentes químicos utilizados para el control y eliminación de la placa bacteriana deben reunir unas características específicas para ser utilizados como medio de prevención de la caries y la enfermedad periodontal. Todas estas características son de gran interés, sin embargo, debemos destacar tres condiciones sine qua non a la horade seleccionar el agente químico a utilizar: la toxicidad, la potencia y la substantividad. Un factor determinante en la acción antiplaca de un agente químico parece estar relacionado con la capacidad de ser retenido en la cavidad oral durante largos períodos de tiempo, es la propiedad conocida con el nombre de substantividad. En el presente trabajo se realiza un estudio comparativo para determinar el contenido de flúor en saliva después del cepillado dental con un dentífrico que contiene flúor de aminas y con un dentífrico que contiene flúor de sodio,\" comparando la substantividad de cada uno de ellos en el medio oral (AU)\"\"\"\"\"\"\",\"\",\"\",\"\",\"\",\"\",\"\",\"\",\"\",\"\",\"\",\"\" \n",
      "\n",
      "Least :  Cirugía reconstructiva compleja de la esclerosis cérvico-uretral tras prostatectomía radical, por fracaso de la solución endoscópica\t\"La esclerosis de la unión cérvico-uretral es una de las complicaciones que pueden aparecer tras una prostatectomía radical, el tratamiento endoscópico suele ser resolutivo en la mayoría de los casos. Presentamos la reparación vía abierta de una esclerosis cérvico-uretral tras prostatectomía radical que no respondió al manejo endoscópico. La técnica quirúrgica constó de un primer tiempo perineal y un segundo tiempo con abordaje hipogástrico. A los 6 meses de esta compleja cirugía se colocó un esfínter artificial al paciente. Tras 3 años de seguimiento el paciente se encuentra asintomático y continente (AU)\"\"\",\"\",\"\",\"\",\"\",\"\",\"\",\"\",\"\",\"\",\"\",\"\",\"\"\n"
     ]
    }
   ],
   "source": [
    "# Closest document to the word \"love\"\n",
    "\n",
    "tokens = \"tumor\"\n",
    "\n",
    "new_vector = model.infer_vector(tokens.split() ,alpha=0.001 ,steps = 5)\n",
    "sims = model.docvecs.most_similar([new_vector], topn=model.docvecs.count) # get *all* similar documents\n",
    "\n",
    "print(\"Most : \" , data[alldocs[sims[0][0]].original_number], \"\\n\") \n",
    "print(\"Median : \" , data[alldocs[sims[170][0]].original_number], \"\\n\")\n",
    "print(\"Least : \" , data[alldocs[sims[-1][0]].original_number])"
   ]
  },
  {
   "cell_type": "code",
   "execution_count": null,
   "metadata": {},
   "outputs": [],
   "source": []
  }
 ],
 "metadata": {
  "kernelspec": {
   "display_name": "Python 3",
   "language": "python",
   "name": "python3"
  },
  "language_info": {
   "codemirror_mode": {
    "name": "ipython",
    "version": 3
   },
   "file_extension": ".py",
   "mimetype": "text/x-python",
   "name": "python",
   "nbconvert_exporter": "python",
   "pygments_lexer": "ipython3",
   "version": "3.7.4"
  }
 },
 "nbformat": 4,
 "nbformat_minor": 2
}
