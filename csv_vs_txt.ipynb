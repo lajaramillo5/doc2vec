{
 "cells": [
  {
   "cell_type": "code",
   "execution_count": 1,
   "metadata": {},
   "outputs": [],
   "source": [
    "import gensim\n",
    "import os\n",
    "import collections\n",
    "import smart_open\n",
    "import random"
   ]
  },
  {
   "cell_type": "code",
   "execution_count": 2,
   "metadata": {},
   "outputs": [],
   "source": [
    "from gensim import models,corpora,similarities"
   ]
  },
  {
   "cell_type": "code",
   "execution_count": 3,
   "metadata": {},
   "outputs": [],
   "source": [
    "# Establecer nombres de archivo para trenes y datos de prueba\n",
    "\n",
    "test_data_dir = '{}'.format(os.sep).join([gensim.__path__[0], 'test', 'test_data'])\n",
    "lee_train_file = 'datos.csv'\n",
    "lee_test_file = './textos/S0004-06142006000500002-4.txt'"
   ]
  },
  {
   "cell_type": "code",
   "execution_count": 4,
   "metadata": {},
   "outputs": [],
   "source": [
    "def read_corpus(fname, tokens_only=False):\n",
    "    with smart_open.smart_open(fname, encoding=\"iso-8859-1\") as f:\n",
    "        for i, line in enumerate(f):\n",
    "            if tokens_only:\n",
    "                yield gensim.utils.simple_preprocess(line)\n",
    "            else:\n",
    "                # For training data, add tags\n",
    "                yield gensim.models.doc2vec.TaggedDocument(gensim.utils.simple_preprocess(line), [i])"
   ]
  },
  {
   "cell_type": "code",
   "execution_count": 5,
   "metadata": {},
   "outputs": [
    {
     "name": "stderr",
     "output_type": "stream",
     "text": [
      "C:\\ProgramData\\Anaconda3\\lib\\site-packages\\smart_open\\smart_open_lib.py:402: UserWarning: This function is deprecated, use smart_open.open instead. See the migration notes for details: https://github.com/RaRe-Technologies/smart_open/blob/master/README.rst#migrating-to-the-new-open-function\n",
      "  'See the migration notes for details: %s' % _MIGRATION_NOTES_URL\n"
     ]
    }
   ],
   "source": [
    "\n",
    "train_corpus = list(read_corpus(lee_train_file))\n",
    "test_corpus = list(read_corpus(lee_test_file, tokens_only=True))"
   ]
  },
  {
   "cell_type": "code",
   "execution_count": 6,
   "metadata": {},
   "outputs": [
    {
     "data": {
      "text/plain": [
       "[TaggedDocument(words=['titulo', 'descripcion'], tags=[0]),\n",
       " TaggedDocument(words=['novedades', 'en', 'cirugã', 'de', 'columna', 'vertebral', 'en', 'en', 'este', 'artã', 'culo', 'de', 'revisiã³n', 'queremos', 'destacar', 'las', 'principales', 'novedades', 'curiosidades', 'alrededor', 'de', 'la', 'cirugã', 'de', 'columna', 'que', 'se', 'han', 'publicado', 'el', 'aã', 'aunque', 'el', 'aã', 'pasado', 'no', 'han', 'sido', 'publicadas', 'grandes', 'novedades', 'en', 'nuestra', 'rea', 'de', 'estudio', 'nosotros', 'queremos', 'hacer', 'hincapiã', 'en', 'los', 'aspectos', 'que', 'nos', 'han', 'parecido', 'mã', 'relevantes', 'sobre', 'cirugã', 'de', 'columna', 'dado', 'que', 'la', 'cirugã', 'de', 'columna', 'representa', 'una', 'importante', 'carga', 'asistencial', 'sanitaria', 'social', 'los', 'estudios', 'aquã', 'reflejados', 'intentan', 'dar', 'respuestas', 'las', 'mãºltiples', 'demandas', 'pendientes', 'asã', 'es', 'como', 'abordaremos', 'temas', 'como', 'la', 'artrodesis', 'cervical', 'vs', 'prã³tesis', 'cervicales', 'uso', 'local', 'de', 'vancomicina', 'en', 'polvo', 'vitamina', 'mejoras', 'en', 'las', 'tã', 'cnicas', 'de', 'cementaciã³n', 'vertebral', 'uso', 'de', 'agentes', 'biolã³gicos', 'escoliosis', 'idiopã', 'tica', 'del', 'adolescente', 'factores', 'de', 'riesgo', 'para', 'la', 'cirugã', 'de', 'columna', 'au'], tags=[1])]"
      ]
     },
     "execution_count": 6,
     "metadata": {},
     "output_type": "execute_result"
    }
   ],
   "source": [
    "train_corpus[:2]"
   ]
  },
  {
   "cell_type": "code",
   "execution_count": 7,
   "metadata": {},
   "outputs": [
    {
     "name": "stdout",
     "output_type": "stream",
     "text": [
      "Wall time: 5.49 s\n"
     ]
    }
   ],
   "source": [
    "model = gensim.models.doc2vec.Doc2Vec(vector_size=50, min_count=2, epochs=55)\n",
    "model.build_vocab(train_corpus)\n",
    "%time model.train(train_corpus, total_examples=model.corpus_count, epochs=model.epochs)\n",
    "# model.infer_vector(['only', 'you', 'can', 'prevent', 'forest', 'fires'])"
   ]
  },
  {
   "cell_type": "code",
   "execution_count": 13,
   "metadata": {},
   "outputs": [],
   "source": [
    "ranks = []\n",
    "second_ranks = []\n",
    "for doc_id in range(len(train_corpus)):\n",
    "    # inferir nuevos vectores para cada documento del corpus de entrenamiento\n",
    "    inferred_vector = model.infer_vector(train_corpus[doc_id].words)\n",
    "    # Cacular simialidad del vector inferido con documentos en el modelo sims es una matriz que contiene el resultado organizado en orden descendente por ejemplo [(0, 0.9274195432662964), (48, 0.8267428278923035)] donde El elemento de tupla es doc_id y el segundo es el puntaje de simialidad\n",
    "    sims = model.docvecs.most_similar([inferred_vector], topn=len(model.docvecs))\n",
    "  #devuelve el rango del documento actual de la lista de documentos más similares\n",
    "#asumimos que el documento más similar es el mismo y, por lo tanto, el rango debe estar en el índice\n",
    "    rank = [docid for docid, sim in sims].index(doc_id) \n",
    "    ranks.append(rank)\n",
    "    second_ranks.append(sims[1])"
   ]
  },
  {
   "cell_type": "code",
   "execution_count": 14,
   "metadata": {},
   "outputs": [
    {
     "data": {
      "text/plain": [
       "Counter({343: 1, 0: 524, 1: 1})"
      ]
     },
     "execution_count": 14,
     "metadata": {},
     "output_type": "execute_result"
    }
   ],
   "source": [
    "# cuente cómo se clasifica cada documento con respecto al corpus de capacitación\n",
    "# la comprobación de un vector inferido contra un vector de entrenamiento es una especie de \"comprobación de cordura\"\n",
    "# en cuanto a si el modelo se comporta de una manera útil y consistente, aunque no es un valor real de \"precisión\".\n",
    "collections.Counter(ranks)"
   ]
  },
  {
   "cell_type": "code",
   "execution_count": 15,
   "metadata": {
    "scrolled": false
   },
   "outputs": [
    {
     "name": "stdout",
     "output_type": "stream",
     "text": [
      "Document (525): «paciente con sdt tras prostatectomã radical el sã ndrome de dã ficit de testosterona sdt define un cuadro clã nico bioquã mico asociado la edad que produce un detrimento en la calidad de vida de estos pacientes estudios recientes abogan por la seguridad del tratamiento hormonal con testosterona en pacientes con historia de cã ncer de prã³stata cp al no haberse demostrado inducciã³n de este tumor un total de cinco publicaciones presentan resultados de pacientes tratados con testosterona con historia de cp intervenidos mediante prostatectomã radical pr solo un paciente presentã³ recidiva bioquã mica durante el tratamiento sustitutivo la terapia de reemplazamiento con testosterona ha de ser indicada en pacientes seleccionados que se encuentren sintomã ticos con historia de cã ncer localizado de bajo riesgo tratado de manera satisfactoria buen control oncolã³gico las cifras de testosterona alcanzar mantener serã las mã nimas eficaces que permitan obtener una respuesta sintomã tica una correcta adecuada informaciã³n de los beneficios potenciales riesgos han de ser entendidos aceptados por el paciente au»\n",
      "\n",
      "SIMILAR/DISSIMILAR DOCS PER MODEL Doc2Vec(dm/m,d50,n5,w5,mc2,s0.001,t3):\n",
      "\n",
      "MOST (525, 0.9299922585487366): «paciente con sdt tras prostatectomã radical el sã ndrome de dã ficit de testosterona sdt define un cuadro clã nico bioquã mico asociado la edad que produce un detrimento en la calidad de vida de estos pacientes estudios recientes abogan por la seguridad del tratamiento hormonal con testosterona en pacientes con historia de cã ncer de prã³stata cp al no haberse demostrado inducciã³n de este tumor un total de cinco publicaciones presentan resultados de pacientes tratados con testosterona con historia de cp intervenidos mediante prostatectomã radical pr solo un paciente presentã³ recidiva bioquã mica durante el tratamiento sustitutivo la terapia de reemplazamiento con testosterona ha de ser indicada en pacientes seleccionados que se encuentren sintomã ticos con historia de cã ncer localizado de bajo riesgo tratado de manera satisfactoria buen control oncolã³gico las cifras de testosterona alcanzar mantener serã las mã nimas eficaces que permitan obtener una respuesta sintomã tica una correcta adecuada informaciã³n de los beneficios potenciales riesgos han de ser entendidos aceptados por el paciente au»\n",
      "\n",
      "MEDIAN (517, 0.26922479271888733): «links between childhood experiences and avoidant personality disorder symptomatology research indicates that some types of adverse childhood experience may be involved in the development of avoidant personality disorder avpd the current study examined relationships between retrospectively reported childhood maltreatment parental bonding and teasing on levels of adult avpd symptomatology the current study incorporated cross section research design four hundred and eleven non clinical participants males and females ranging in age from to years years sd years completed survey measuring current depression anxiety and avpd symptoms and retrospective reports of childhood maltreatment parental bonding and teasing consistent with hypotheses avpd symptomatology correlated positively with depression and anxiety symptoms childhood maltreatment parental overprotection and childhood teasing while negative association was found with avpd and parental care in regression after controlling for the influence of depression and anxiety sexual abuse and social behaviour teasing significantly and uniquely predicted avpd symptomatology contrary to expectations parental bonding was not unique predictor of avpd symptomatology in regression modelling this study contributes to the understanding of factors potentially influencing the development of avpd au»\n",
      "\n",
      "LEAST (0, -0.1905973255634308): «titulo descripcion»\n",
      "\n"
     ]
    }
   ],
   "source": [
    "print('Document ({}): «{}»\\n'.format(doc_id, ' '.join(train_corpus[doc_id].words)))\n",
    "print(u'SIMILAR/DISSIMILAR DOCS PER MODEL %s:\\n' % model)\n",
    "for label, index in [('MOST', 0), ('MEDIAN', len(sims)//2), ('LEAST', len(sims) - 1)]:\n",
    "    print(u'%s %s: «%s»\\n' % (label, sims[index], ' '.join(train_corpus[sims[index][0]].words)))"
   ]
  },
  {
   "cell_type": "code",
   "execution_count": null,
   "metadata": {},
   "outputs": [],
   "source": []
  }
 ],
 "metadata": {
  "kernelspec": {
   "display_name": "Python 3",
   "language": "python",
   "name": "python3"
  },
  "language_info": {
   "codemirror_mode": {
    "name": "ipython",
    "version": 3
   },
   "file_extension": ".py",
   "mimetype": "text/x-python",
   "name": "python",
   "nbconvert_exporter": "python",
   "pygments_lexer": "ipython3",
   "version": "3.7.4"
  }
 },
 "nbformat": 4,
 "nbformat_minor": 2
}
